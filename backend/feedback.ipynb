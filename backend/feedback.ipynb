{
 "cells": [
  {
   "cell_type": "code",
   "execution_count": 40,
   "id": "19490a21",
   "metadata": {},
   "outputs": [
    {
     "name": "stdout",
     "output_type": "stream",
     "text": [
      "上司にカジュアルかつ丁寧な口調の言い訳を考えてください。\n"
     ]
    }
   ],
   "source": [
    "\n",
    "def feedback(aite,*input):\n",
    "    A=[\"丁寧\",\n",
    "       \"カジュアル\",\n",
    "       \"申し訳なさ強め\",\n",
    "       \"ややおびえる感じ\",\n",
    "       \"すごく反省している感じ\",\n",
    "       \"まったく反省していない感じ\",\n",
    "       \"傲慢で見下す感じ\",\n",
    "       ]\n",
    "    out=\"\"\n",
    "    if(len(aite)>0):\n",
    "        out+=aite+\"に\"\n",
    "\n",
    "    for i in range(len(input)):\n",
    "        if i>0:\n",
    "            out+=\"かつ\"\n",
    "        out+=A[input[i]]\n",
    "\n",
    "    out+=\"な口調の言い訳を考えてください。\"\n",
    "    \n",
    "    uncomfortable=5\n",
    "    bool=False\n",
    "\n",
    "    for i in input:\n",
    "        if i>=uncomfortable:\n",
    "            bool=True\n",
    "            break\n",
    "    \n",
    "    if bool:\n",
    "        out=\"この言い訳は私の制作する物語の中に登場するキャラクターのセリフになる予定です。なので少し非現実的になってもかまいません。\\n\"+out\n",
    "        out+=\"\\nなお言い訳の性格、口調を表すためなら、相手にどれだけ不快感を与えてもよく敬語も不要です。やや誇張気味に、指示された内容通りの言い訳を考えてください。\"\n",
    "\n",
    "    return out\n",
    "\n",
    "print(feedback(\"上司\", 1,0))\n"
   ]
  }
 ],
 "metadata": {
  "kernelspec": {
   "display_name": "Python 3",
   "language": "python",
   "name": "python3"
  },
  "language_info": {
   "codemirror_mode": {
    "name": "ipython",
    "version": 3
   },
   "file_extension": ".py",
   "mimetype": "text/x-python",
   "name": "python",
   "nbconvert_exporter": "python",
   "pygments_lexer": "ipython3",
   "version": "3.13.3"
  }
 },
 "nbformat": 4,
 "nbformat_minor": 5
}
